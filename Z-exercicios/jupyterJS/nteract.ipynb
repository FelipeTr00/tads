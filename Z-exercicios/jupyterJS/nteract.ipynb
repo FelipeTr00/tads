{
  "cells": [
    {
      "cell_type": "code",
      "source": [
        "const prompt = require(\"prompt-sync\")();\n",
        "a = prompt(\"A: \")"
      ],
      "outputs": [
        {
          "output_type": "error",
          "ename": "Error",
          "evalue": "Cannot find module 'prompt-sync'\nRequire stack:\n- /home/morais/[eval]",
          "traceback": [
            "internal/modules/cjs/loader.js:818",
            "  throw err;",
            "  ^",
            "",
            "Error: Cannot find module 'prompt-sync'",
            "Require stack:",
            "- /home/morais/[eval]",
            "    at Function.Module._resolveFilename (internal/modules/cjs/loader.js:815:15)",
            "    at Function.Module._load (internal/modules/cjs/loader.js:667:27)",
            "    at Module.require (internal/modules/cjs/loader.js:887:19)",
            "    at require (internal/modules/cjs/helpers.js:74:18)",
            "    at evalmachine.<anonymous>:1:16",
            "    at Script.runInThisContext (vm.js:120:18)",
            "    at Object.runInThisContext (vm.js:309:38)",
            "    at run ([eval]:1020:15)",
            "    at onRunRequest ([eval]:864:18)",
            "    at onMessage ([eval]:828:13)"
          ]
        }
      ],
      "execution_count": 1,
      "metadata": {
        "collapsed": true,
        "jupyter": {
          "source_hidden": false,
          "outputs_hidden": false
        },
        "nteract": {
          "transient": {
            "deleting": false
          }
        },
        "execution": {
          "iopub.status.busy": "2024-04-06T21:43:16.139Z",
          "iopub.execute_input": "2024-04-06T21:43:16.141Z"
        }
      }
    }
  ],
  "metadata": {
    "kernel_info": {
      "name": "python3"
    },
    "language_info": {
      "name": "javascript",
      "version": "12.22.9",
      "mimetype": "application/javascript",
      "file_extension": ".js"
    },
    "kernelspec": {
      "argv": [
        "python",
        "-m",
        "ipykernel_launcher",
        "-f",
        "{connection_file}"
      ],
      "display_name": "Python 3 (ipykernel)",
      "language": "python",
      "metadata": {
        "debugger": true
      },
      "name": "python3"
    },
    "nteract": {
      "version": "0.28.0"
    }
  },
  "nbformat": 4,
  "nbformat_minor": 0
}